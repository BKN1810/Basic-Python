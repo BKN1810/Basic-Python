{
 "cells": [
  {
   "cell_type": "code",
   "execution_count": 2,
   "metadata": {},
   "outputs": [
    {
     "name": "stdout",
     "output_type": "stream",
     "text": [
      "I am Arthor,\n",
      "DSA.\n"
     ]
    }
   ],
   "source": [
    "def message():\n",
    "    print('I am Arthor,')\n",
    "    print('DSA.')\n",
    "\n",
    "message() # Call the message function."
   ]
  },
  {
   "cell_type": "code",
   "execution_count": 4,
   "metadata": {},
   "outputs": [
    {
     "name": "stdout",
     "output_type": "stream",
     "text": [
      "This is first call to the user defined function!\n",
      "Again second call to the same function\n"
     ]
    }
   ],
   "source": [
    "def printme( str ):  # Function definition is here\n",
    "   print (str)\n",
    "   return\n",
    "# Now you can call printme function\n",
    "printme(\"This is first call to the user defined function!\")\n",
    "printme(\"Again second call to the same function\")"
   ]
  },
  {
   "cell_type": "markdown",
   "metadata": {},
   "source": [
    "#### You can specify multiple expressions separated by commas after the return statement,\n",
    "general format:\n",
    "    return expression1, expression2, etc."
   ]
  },
  {
   "cell_type": "code",
   "execution_count": 4,
   "metadata": {},
   "outputs": [
    {
     "name": "stdout",
     "output_type": "stream",
     "text": [
      "Enter your first name: Ram \n",
      "Enter your last name: Sharma\n",
      "Name:  Ram    Sharma\n"
     ]
    }
   ],
   "source": [
    "def get_name():\n",
    "    # Get the user's first and last names.\n",
    "    first = input('Enter your first name: ')\n",
    "    last = input('Enter your last name: ')\n",
    "    # Return both names.\n",
    "    return first, last\n",
    "first_name, last_name = get_name()\n",
    "print(\"Name: \",first_name,\" \",last_name)"
   ]
  },
  {
   "cell_type": "code",
   "execution_count": 6,
   "metadata": {},
   "outputs": [
    {
     "name": "stdout",
     "output_type": "stream",
     "text": [
      "Values inside the function before change:  [10, 20, 30]\n",
      "Values inside the function after change:  [10, 20, 50]\n",
      "Values outside the function:  [10, 20, 50]\n"
     ]
    }
   ],
   "source": [
    "# Function definition is here\n",
    "def changelist(mylist):\n",
    "    print(\"Values inside the function before change: \", mylist)\n",
    "    mylist[2] = 50\n",
    "    print(\"Values inside the function after change: \", mylist)\n",
    "    return\n",
    "# Now you can call changeme function\n",
    "list1 = [10, 20, 30]\n",
    "changelist(list1)\n",
    "print(\"Values outside the function: \", list1)"
   ]
  },
  {
   "cell_type": "code",
   "execution_count": 8,
   "metadata": {},
   "outputs": [
    {
     "name": "stdout",
     "output_type": "stream",
     "text": [
      "Values inside the function:  [1, 2, 3, 4]\n",
      "Values outside the function:  [10, 20, 30]\n"
     ]
    }
   ],
   "source": [
    "# Function definition is here\n",
    "def changelist( list1 ):\n",
    "   \"This changes a passed list into this function\"\n",
    "   list1 = [1,2,3,4] # This would assi new reference in mylist\n",
    "   print (\"Values inside the function: \", list1)\n",
    "   return\n",
    "# Now you can call changeme function\n",
    "list = [10,20,30]\n",
    "changelist( list )\n",
    "print (\"Values outside the function: \", list)"
   ]
  },
  {
   "cell_type": "code",
   "execution_count": 10,
   "metadata": {},
   "outputs": [
    {
     "name": "stdout",
     "output_type": "stream",
     "text": [
      "Value inside function: 10\n",
      "Value outside function: 20\n"
     ]
    }
   ],
   "source": [
    "# example to illustrate the scope of a variable inside a function\n",
    "def scope_of_a_variable():\n",
    "\tx = 10\n",
    "\tprint(\"Value inside function:\",x)\n",
    "x = 20\n",
    "scope_of_a_variable()\n",
    "print(\"Value outside function:\",x)"
   ]
  },
  {
   "cell_type": "code",
   "execution_count": 12,
   "metadata": {},
   "outputs": [
    {
     "name": "stdout",
     "output_type": "stream",
     "text": [
      "Name:  50\n",
      "Age:  Shyam\n",
      "Name:  Ram\n",
      "Age:  35\n"
     ]
    }
   ],
   "source": [
    "# default arguments example\n",
    "def printinfo(name, age = 35 ):\n",
    "   print (\"Name: \", name)\n",
    "   print (\"Age: \", age)\n",
    "   return\n",
    "# Now you can call printinfo function\n",
    "printinfo( 50, \"Shyam\" )\n",
    "printinfo(\"Ram\" )\n",
    "#printinfo( age=70)   # will generate error."
   ]
  },
  {
   "cell_type": "code",
   "execution_count": 9,
   "metadata": {},
   "outputs": [
    {
     "name": "stdout",
     "output_type": "stream",
     "text": [
      "120\n"
     ]
    }
   ],
   "source": [
    "# Recursion Example\n",
    "def factorial( n ):\n",
    "    if (n==0 ): \n",
    "        return 1\n",
    "    else: \n",
    "        return( n* factorial(n-1))\n",
    "x=  factorial(5)\n",
    "print(x)"
   ]
  },
  {
   "cell_type": "code",
   "execution_count": 16,
   "metadata": {},
   "outputs": [
    {
     "name": "stdin",
     "output_type": "stream",
     "text": [
      "Enter a number:  353\n"
     ]
    },
    {
     "name": "stdout",
     "output_type": "stream",
     "text": [
      "The square root of 353.0 is 18.788294228055936\n"
     ]
    }
   ],
   "source": [
    "#This program demonstrates the sqrt function.\n",
    "import math\n",
    "def main():\n",
    "\t# Get a number.\n",
    "\tnumber = float(input('Enter a number: '))\n",
    "\t# Get the square root of the number.\n",
    "\tsquare_root = math.sqrt(number)\n",
    "\t# Display the square root.\n",
    "\tprint('The square root of', number, 'is', square_root)\n",
    "# Call the main function.\n",
    "main()"
   ]
  },
  {
   "cell_type": "code",
   "execution_count": 6,
   "metadata": {},
   "outputs": [
    {
     "name": "stdout",
     "output_type": "stream",
     "text": [
      " x: Coke\n",
      " x: Mushroom\n",
      "\n",
      "\n",
      " x: Momo\n",
      " x: Veg\n",
      " x: [4, 5, 6, 7]\n",
      " x: (5, 7, 8)\n",
      "\n",
      "\n",
      " x: CocoCola\n",
      " x: [4, 5, 6, 7]\n",
      " x: Pop-corn\n",
      "\n",
      "\n"
     ]
    }
   ],
   "source": [
    "# passing an Arbitrary numbers of Arguments. This is useful when we want to create functions \n",
    "# that can take a variable number of positional arguments.\n",
    "\n",
    "def product(*ptrvar):\n",
    "    #print(ptrvar)\n",
    "    for x in ptrvar:\n",
    "        print(f\" x: {x}\")\n",
    "    print(\"\\n\")\n",
    "    \n",
    "product('Coke',\"Mushroom\")\n",
    "product('Momo', 'Veg', [4,5,6,7,],(5,7,8))\n",
    "product('CocoCola', [4,5,6,7,],'Pop-corn')"
   ]
  },
  {
   "cell_type": "code",
   "execution_count": 13,
   "metadata": {},
   "outputs": [
    {
     "name": "stdout",
     "output_type": "stream",
     "text": [
      "{'first_name': 'Ram', 'last_name': 'Sharma', 'location': 'Nepal', 'field': 'Farmer', 'age': 110}\n"
     ]
    }
   ],
   "source": [
    "def build_profile(first, last, **user_info):\n",
    "    \"\"\"Build a dictionary containing everything we know about a user.\"\"\"\n",
    "    profile = {}\n",
    "    profile['first_name'] = first\n",
    "    profile['last_name'] = last\n",
    "\n",
    "    for key, value in user_info.items():\n",
    "            profile[key] = value\n",
    "      \n",
    "    return profile\n",
    "    \n",
    "user_profile = build_profile('Ram', 'Sharma',location='Nepal',field='Farmer',age=110)\n",
    "print(user_profile)"
   ]
  },
  {
   "cell_type": "code",
   "execution_count": 8,
   "metadata": {},
   "outputs": [
    {
     "name": "stdout",
     "output_type": "stream",
     "text": [
      "1\n",
      "2\n",
      "3\n",
      "name = Alice\n",
      "age = 30\n"
     ]
    }
   ],
   "source": [
    "# Combining *args and **kwargs\n",
    "def my_function(*args, **kwargs):\n",
    "    for arg in args:\n",
    "        print(arg)\n",
    "    for key, value in kwargs.items():\n",
    "        print(f\"{key} = {value}\")\n",
    "\n",
    "my_function(1, 2, 3, name=\"Alice\", age=30)"
   ]
  },
  {
   "cell_type": "code",
   "execution_count": 16,
   "metadata": {},
   "outputs": [
    {
     "name": "stdout",
     "output_type": "stream",
     "text": [
      "a = 1\n",
      "b = 2\n",
      "3\n",
      "4\n",
      "name = Alice\n",
      "age = 30\n",
      "==================================\n",
      "a = 1\n",
      "b = 5\n",
      "name = Alice\n",
      "age = 30\n",
      "==================================\n",
      "a = 1\n",
      "b = Hello\n",
      "100\n",
      "200\n",
      "name = Alice\n",
      "age = 30\n"
     ]
    }
   ],
   "source": [
    "# Example with Default Parameters\n",
    "def my_function(a, b=5, *args, **kwargs):\n",
    "    print(f\"a = {a}\")\n",
    "    print(f\"b = {b}\")\n",
    "    for arg in args:\n",
    "        print(arg)\n",
    "    for key, value in kwargs.items():\n",
    "        print(f\"{key} = {value}\")\n",
    "\n",
    "my_function(1, 2, 3, 4, name=\"Alice\", age=30)\n",
    "print(\"==================================\")\n",
    "my_function(1, name=\"Alice\", age=30)\n",
    "print(\"==================================\")\n",
    "my_function(1, \"Hello\", 100,200, name=\"Alice\", age=30)"
   ]
  },
  {
   "cell_type": "code",
   "execution_count": 28,
   "metadata": {},
   "outputs": [
    {
     "name": "stdout",
     "output_type": "stream",
     "text": [
      "Try __main__ function\n"
     ]
    }
   ],
   "source": [
    "def Abc():\n",
    "    print(\"hello world!\")\n",
    "\n",
    "if __name__ == \"_Abc_\":\n",
    "   Abc()\n",
    "\n",
    "print(\"Try __main__ function\")"
   ]
  },
  {
   "cell_type": "code",
   "execution_count": 36,
   "metadata": {},
   "outputs": [
    {
     "name": "stdout",
     "output_type": "stream",
     "text": [
      " Name:Ram sharma \n",
      " Age: 123\n",
      " Name:Sharma ram \n",
      " Age: 123\n"
     ]
    }
   ],
   "source": [
    "def userProfile(first, last,age):\n",
    "    print(f\" Name:{first.title()} {last} \\n Age: {age}\")\n",
    "\n",
    "userProfile(\"ram\", \"sharma\", 123)\n",
    "userProfile(\"Sharma\", \"ram\", 123)"
   ]
  },
  {
   "cell_type": "code",
   "execution_count": 40,
   "metadata": {},
   "outputs": [
    {
     "name": "stdout",
     "output_type": "stream",
     "text": [
      " Name:Ram Sharma \n",
      " Age: 123\n"
     ]
    }
   ],
   "source": [
    "userProfile(last=\"Sharma\", first=\"ram\", age=123)"
   ]
  },
  {
   "cell_type": "code",
   "execution_count": 42,
   "metadata": {},
   "outputs": [
    {
     "name": "stdout",
     "output_type": "stream",
     "text": [
      "Inside function: [1, 2, 3, 4]\n",
      "Original list: [1, 2, 3]\n"
     ]
    }
   ],
   "source": [
    "# preventing a function from modifying list\n",
    "def modify_list(lst):\n",
    "    lst.append(4)\n",
    "    print(\"Inside function:\", lst)\n",
    "\n",
    "original_list = [1, 2, 3]\n",
    "copy_list = original_list[:]\n",
    "\n",
    "modify_list(copy_list)\n",
    "print(\"Original list:\", original_list)"
   ]
  },
  {
   "cell_type": "code",
   "execution_count": null,
   "metadata": {},
   "outputs": [],
   "source": []
  }
 ],
 "metadata": {
  "kernelspec": {
   "display_name": "Python 3 (ipykernel)",
   "language": "python",
   "name": "python3"
  },
  "language_info": {
   "codemirror_mode": {
    "name": "ipython",
    "version": 3
   },
   "file_extension": ".py",
   "mimetype": "text/x-python",
   "name": "python",
   "nbconvert_exporter": "python",
   "pygments_lexer": "ipython3",
   "version": "3.11.7"
  }
 },
 "nbformat": 4,
 "nbformat_minor": 4
}
