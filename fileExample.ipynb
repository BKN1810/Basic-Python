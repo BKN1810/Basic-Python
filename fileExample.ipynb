{
 "cells": [
  {
   "cell_type": "code",
   "execution_count": 2,
   "id": "3ce6abb4-0ce3-48a9-b3a3-b10e1b873526",
   "metadata": {},
   "outputs": [
    {
     "name": "stdout",
     "output_type": "stream",
     "text": [
      "File handling in Python allows you to read from and write to files. Here are some basic examples to demonstrate this.\n",
      "Reading from a File\n",
      "To read from a file, you can use the open function with the mode 'r'.\n",
      "Writing to a File\n",
      "To write to a file, use the open function with the mode 'w' for writing (which will overwrite the file if it exists) or 'a' for appending.\n",
      "Using readlines to Read All Lines into a List\n",
      "The readlines method reads all lines into a list.\n"
     ]
    }
   ],
   "source": [
    "# Reading a file\n",
    "with open('simple.txt', 'r') as file:\n",
    "    content = file.read()\n",
    "    print(content)\n"
   ]
  },
  {
   "cell_type": "code",
   "execution_count": 6,
   "id": "fd6f76fb-a79d-4f96-95d0-6a51bd7c3497",
   "metadata": {},
   "outputs": [
    {
     "name": "stdout",
     "output_type": "stream",
     "text": [
      "File handling in Python allows you to read from and write to files. Here are some basic examples to demonstrate this.\n",
      "\n",
      "Reading from a File\n",
      "\n",
      "To read from a file, you can use the open function with the mode 'r'.\n",
      "\n",
      "Writing to a File\n",
      "\n",
      "To write to a file, use the open function with the mode 'w' for writing (which will overwrite the file if it exists) or 'a' for appending.\n",
      "\n",
      "Using readlines to Read All Lines into a List\n",
      "\n",
      "The readlines method reads all lines into a list.\n"
     ]
    }
   ],
   "source": [
    "# Reading a file line by line\n",
    "with open('simple.txt', 'r') as file:\n",
    "    for line in file:\n",
    "        print(line)"
   ]
  },
  {
   "cell_type": "code",
   "execution_count": 10,
   "id": "2535cc61-cad6-4f6a-800a-94a94731100c",
   "metadata": {},
   "outputs": [
    {
     "name": "stdout",
     "output_type": "stream",
     "text": [
      "File handling in Python allows you to read from and write to files. Here are some basic examples to demonstrate this.\n",
      "Reading from a File\n",
      "To read from a file, you can use the open function with the mode 'r'.\n",
      "Writing to a File\n",
      "To write to a file, use the open function with the mode 'w' for writing (which will overwrite the file if it exists) or 'a' for appending.\n",
      "Using readlines to Read All Lines into a List\n",
      "The readlines method reads all lines into a list."
     ]
    }
   ],
   "source": [
    "# Reading a file line by line\n",
    "with open('simple.txt', 'r') as file:\n",
    "    for line in file:\n",
    "        print(line, end='')"
   ]
  },
  {
   "cell_type": "code",
   "execution_count": 12,
   "id": "9941450c-c2d4-4dab-bf76-70be16612e86",
   "metadata": {},
   "outputs": [],
   "source": [
    "# Writing to a file\n",
    "with open('try.txt', 'w') as file:\n",
    "    file.write('Hello, this is a test file.\\n')"
   ]
  },
  {
   "cell_type": "code",
   "execution_count": 14,
   "id": "fb433a60-44e0-436f-88c9-48fe392f4e08",
   "metadata": {},
   "outputs": [],
   "source": [
    "# Appending to the file\n",
    "with open('try.txt', 'a') as file:\n",
    "    file.write('This is an additional line in try.txt.\\n')"
   ]
  },
  {
   "cell_type": "code",
   "execution_count": 16,
   "id": "4c416bde-97c3-4e4a-9093-4f80b040294a",
   "metadata": {},
   "outputs": [
    {
     "name": "stdout",
     "output_type": "stream",
     "text": [
      "File Content:\n",
      " Hello, this is a test file.\n",
      "This is an additional line in try.txt.\n",
      "\n"
     ]
    }
   ],
   "source": [
    "# Reading the file\n",
    "with open('try.txt', 'r') as file:\n",
    "    content = file.read()\n",
    "    print('File Content:\\n', content)"
   ]
  },
  {
   "cell_type": "code",
   "execution_count": 18,
   "id": "d360e569-1751-439a-9d1f-2ca6a09d592d",
   "metadata": {},
   "outputs": [
    {
     "name": "stdout",
     "output_type": "stream",
     "text": [
      "File handling i\n"
     ]
    }
   ],
   "source": [
    "# Reading with read(size)\n",
    "with open('simple.txt', 'r') as file:\n",
    "    content = file.read(15)  # Reads first 15 characters\n",
    "    print(content)"
   ]
  },
  {
   "cell_type": "code",
   "execution_count": 20,
   "id": "7a59a5a5-469e-43f0-a158-709b784a91bf",
   "metadata": {},
   "outputs": [
    {
     "name": "stdout",
     "output_type": "stream",
     "text": [
      "handling in Python allows you to read from and write to files. Here are some basic examples to demonstrate this.\n",
      "Reading from a File\n",
      "To read from a file, you can use the open function with the mode 'r'.\n",
      "Writing to a File\n",
      "To write to a file, use the open function with the mode 'w' for writing (which will overwrite the file if it exists) or 'a' for appending.\n",
      "Using readlines to Read All Lines into a List\n",
      "The readlines method reads all lines into a list.\n",
      "Current Position: 460\n"
     ]
    }
   ],
   "source": [
    "with open('simple.txt', 'r') as file:\n",
    "    file.seek(5)  # Move to the 6th byte (0-indexed)\n",
    "    content = file.read()\n",
    "    print(content)\n",
    "\n",
    "    position = file.tell()  # Get the current position\n",
    "    print('Current Position:', position)"
   ]
  },
  {
   "cell_type": "code",
   "execution_count": null,
   "id": "eebffc72-6fcd-4605-a779-746f5f943a9c",
   "metadata": {},
   "outputs": [],
   "source": []
  }
 ],
 "metadata": {
  "kernelspec": {
   "display_name": "Python 3 (ipykernel)",
   "language": "python",
   "name": "python3"
  },
  "language_info": {
   "codemirror_mode": {
    "name": "ipython",
    "version": 3
   },
   "file_extension": ".py",
   "mimetype": "text/x-python",
   "name": "python",
   "nbconvert_exporter": "python",
   "pygments_lexer": "ipython3",
   "version": "3.11.7"
  }
 },
 "nbformat": 4,
 "nbformat_minor": 5
}
