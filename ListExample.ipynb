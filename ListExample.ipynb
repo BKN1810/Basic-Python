{
 "cells": [
  {
   "cell_type": "code",
   "execution_count": 3,
   "metadata": {},
   "outputs": [
    {
     "name": "stdout",
     "output_type": "stream",
     "text": [
      "List 1: ['physics', 'chemistry', 1997, 2000]\n",
      "Value available at index 2 :  1997\n",
      "New value available at index 2 of list1 :  2001\n",
      "List 1: ['physics', 'chemistry', 2001, 2000]\n",
      "List 3: ['a', 'b', 'c', 'd']\n",
      "After deleting value at index 2  of list 3:  ['a', 'b', 'd']\n"
     ]
    }
   ],
   "source": [
    "list1 = ['physics', 'chemistry', 1997, 2000]\n",
    "list2 = [1, 2, 3, 4, 5]\n",
    "list3 = ['a', 'b', 'c', 'd']\n",
    "list = [ 'abcd', 786 , 2.23, 'Hari', 70.2 ]\n",
    "tinylist = [123, 'Ram']\n",
    "\n",
    "print(\"List 1:\",list1)\n",
    "print(\"Value available at index 2 : \", list1[2])\n",
    "list1[2] = 2001\n",
    "print(\"New value available at index 2 of list1 : \", list1[2])\n",
    "print(\"List 1:\",list1)\n",
    "print(\"List 3:\",list3)\n",
    "del list3[2]\n",
    "print (\"After deleting value at index 2  of list 3: \", list3)"
   ]
  },
  {
   "cell_type": "code",
   "execution_count": 4,
   "metadata": {},
   "outputs": [
    {
     "name": "stdout",
     "output_type": "stream",
     "text": [
      "['abcd', 786, 2.23, 'Hari', 70.2]\n",
      "abcd\n",
      "[786, 2.23]\n",
      "[2.23, 'Hari', 70.2]\n",
      "[123, 'Ram', 123, 'Ram']\n",
      "['abcd', 786, 2.23, 'Hari', 70.2, 123, 'Ram']\n"
     ]
    }
   ],
   "source": [
    "print (list)          # Prints complete list\n",
    "print (list[0])       # Prints first element of the list\n",
    "print (list[1:3])     # Prints elements starting from 2nd till 3rd\n",
    "print (list[2:])      # Prints elements starting from 3rd element\n",
    "print (tinylist * 2)  # Prints list two times\n",
    "print (list + tinylist) # Prints concatenated lists"
   ]
  },
  {
   "cell_type": "code",
   "execution_count": 23,
   "metadata": {},
   "outputs": [
    {
     "name": "stdout",
     "output_type": "stream",
     "text": [
      "[1, 3, 5, 7]\n",
      "[1, 3, 5, 7, 9, 11, 13]\n"
     ]
    }
   ],
   "source": [
    "odd = [1, 3, 5]\n",
    "odd.append(7)\n",
    "print(odd)                        \n",
    "odd.extend([9, 11, 13])\n",
    "print(odd)                      "
   ]
  },
  {
   "cell_type": "code",
   "execution_count": 26,
   "metadata": {},
   "outputs": [
    {
     "name": "stdout",
     "output_type": "stream",
     "text": [
      "e\n",
      "Be Happy\n",
      "[2, 0, 2, 2]\n",
      "2\n",
      "100\n"
     ]
    }
   ],
   "source": [
    "# Nested List\n",
    "alist = [\"Be Happy\", [2,0,2,2],100]\n",
    "\n",
    "print(alist[0][1])  \n",
    "print(alist[0])\n",
    "print(alist[1])\n",
    "print(alist[1][3])  \n",
    "print(alist[2])   "
   ]
  },
  {
   "cell_type": "code",
   "execution_count": 4,
   "metadata": {},
   "outputs": [
    {
     "name": "stdout",
     "output_type": "stream",
     "text": [
      "[2, 3, 4]\n",
      "[0, 1, 2, 3]\n",
      "[5, 6, 7, 8, 9]\n",
      "[0, 1, 2, 3, 4, 5, 6, 7, 8, 9]\n"
     ]
    }
   ],
   "source": [
    "my_list = [0, 1, 2, 3, 4, 5, 6, 7, 8, 9]\n",
    "slice1 = my_list[2:5]  # [2, 3, 4]\n",
    "print(slice1)\n",
    "slice2 = my_list[:4]   # [0, 1, 2, 3]\n",
    "print(slice2)\n",
    "slice3 = my_list[5:]   # [5, 6, 7, 8, 9]\n",
    "print(slice3)\n",
    "slice4 = my_list[:]    # [0, 1, 2, 3, 4, 5, 6, 7, 8, 9]\n",
    "print(slice4)"
   ]
  },
  {
   "cell_type": "code",
   "execution_count": 8,
   "metadata": {},
   "outputs": [
    {
     "data": {
      "text/plain": [
       "[0, 3, 6, 9, 12, 15]"
      ]
     },
     "execution_count": 8,
     "metadata": {},
     "output_type": "execute_result"
    }
   ],
   "source": [
    "#Every Third Element:\n",
    "my_list = [0, 1, 2, 3, 4, 5, 6, 7, 8, 9, 10, 11, 12, 13, 14, 15]\n",
    "slice1 = my_list[::3]  # [0, 3, 6, 9, 12, 15]\n",
    "slice1"
   ]
  },
  {
   "cell_type": "code",
   "execution_count": 10,
   "metadata": {},
   "outputs": [
    {
     "data": {
      "text/plain": [
       "[1, 5, 9, 13]"
      ]
     },
     "execution_count": 10,
     "metadata": {},
     "output_type": "execute_result"
    }
   ],
   "source": [
    "# Every Fourth Element Starting from the Second Element:\n",
    "my_list = [0, 1, 2, 3, 4, 5, 6, 7, 8, 9, 10, 11, 12, 13, 14, 15]\n",
    "slice2 = my_list[1::4]  # [1, 5, 9, 13]\n",
    "slice2"
   ]
  },
  {
   "cell_type": "code",
   "execution_count": 12,
   "metadata": {},
   "outputs": [
    {
     "data": {
      "text/plain": [
       "[3, 5, 7, 9, 11]"
      ]
     },
     "execution_count": 12,
     "metadata": {},
     "output_type": "execute_result"
    }
   ],
   "source": [
    "# Every Second Element in a Subset:\n",
    "my_list = [0, 1, 2, 3, 4, 5, 6, 7, 8, 9, 10, 11, 12, 13, 14, 15]\n",
    "slice3 = my_list[3:12:2]  # [3, 5, 7, 9, 11]\n",
    "slice3"
   ]
  },
  {
   "cell_type": "code",
   "execution_count": 14,
   "metadata": {},
   "outputs": [
    {
     "data": {
      "text/plain": [
       "[15, 10, 5, 0]"
      ]
     },
     "execution_count": 14,
     "metadata": {},
     "output_type": "execute_result"
    }
   ],
   "source": [
    "# Every Fifth Element Starting from the End:\n",
    "my_list = [0, 1, 2, 3, 4, 5, 6, 7, 8, 9, 10, 11, 12, 13, 14, 15]\n",
    "slice4 = my_list[::-5]  # [15, 10, 5, 0]\n",
    "slice4"
   ]
  },
  {
   "cell_type": "code",
   "execution_count": 16,
   "metadata": {},
   "outputs": [
    {
     "data": {
      "text/plain": [
       "[15, 13, 11, 9, 7, 5, 3, 1]"
      ]
     },
     "execution_count": 16,
     "metadata": {},
     "output_type": "execute_result"
    }
   ],
   "source": [
    "# Reversing Every Second Element:\n",
    "my_list = [0, 1, 2, 3, 4, 5, 6, 7, 8, 9, 10, 11, 12, 13, 14, 15]\n",
    "slice5 = my_list[::-2]  # [15, 13, 11, 9, 7, 5, 3, 1]\n",
    "slice5"
   ]
  },
  {
   "cell_type": "code",
   "execution_count": 22,
   "metadata": {},
   "outputs": [
    {
     "data": {
      "text/plain": [
       "[10, 8, 6, 4]"
      ]
     },
     "execution_count": 22,
     "metadata": {},
     "output_type": "execute_result"
    }
   ],
   "source": [
    "# Reversing a Subset with a Step:\n",
    "my_list = [0, 1, 2, 3, 4, 5, 6, 7, 8, 9, 10, 11, 12, 13, 14, 15]\n",
    "slice6 = my_list[10:3:-2]  # [10, 8, 6, 4]\n",
    "slice6"
   ]
  },
  {
   "cell_type": "code",
   "execution_count": 24,
   "metadata": {},
   "outputs": [
    {
     "data": {
      "text/plain": [
       "[[0, 1], [4, 5], [8, 9]]"
      ]
     },
     "execution_count": 24,
     "metadata": {},
     "output_type": "execute_result"
    }
   ],
   "source": [
    "# Skipping Elements in Nested Lists:\n",
    "nested_list = [[0, 1], [2, 3], [4, 5], [6, 7], [8, 9], [10, 11]]\n",
    "slice7 = nested_list[::2]  # [[0, 1], [4, 5], [8, 9]]\n",
    "slice7"
   ]
  },
  {
   "cell_type": "code",
   "execution_count": 26,
   "metadata": {},
   "outputs": [
    {
     "data": {
      "text/plain": [
       "'acegikmo'"
      ]
     },
     "execution_count": 26,
     "metadata": {},
     "output_type": "execute_result"
    }
   ],
   "source": [
    "# Every Second Character in a String:\n",
    "my_string = \"abcdefghijklmnop\"\n",
    "slice8 = my_string[::2]  # 'acegikmo'\n",
    "slice8"
   ]
  },
  {
   "cell_type": "code",
   "execution_count": null,
   "metadata": {},
   "outputs": [],
   "source": []
  }
 ],
 "metadata": {
  "kernelspec": {
   "display_name": "Python 3 (ipykernel)",
   "language": "python",
   "name": "python3"
  },
  "language_info": {
   "codemirror_mode": {
    "name": "ipython",
    "version": 3
   },
   "file_extension": ".py",
   "mimetype": "text/x-python",
   "name": "python",
   "nbconvert_exporter": "python",
   "pygments_lexer": "ipython3",
   "version": "3.11.7"
  }
 },
 "nbformat": 4,
 "nbformat_minor": 4
}
