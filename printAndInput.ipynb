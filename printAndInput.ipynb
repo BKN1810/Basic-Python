{
 "cells": [
  {
   "cell_type": "code",
   "execution_count": 2,
   "id": "b8345058-7be8-4aee-a2ed-6ebb62f37a0a",
   "metadata": {},
   "outputs": [
    {
     "name": "stdout",
     "output_type": "stream",
     "text": [
      "Pi rounded to 3 decimal places: 3.142\n"
     ]
    }
   ],
   "source": [
    "pi = 3.141592653589793\n",
    "print(f\"Pi rounded to 3 decimal places: {pi:.3f}\")"
   ]
  },
  {
   "cell_type": "code",
   "execution_count": 4,
   "id": "90c9e52d-2e50-4b24-ae14-35e3bc8668df",
   "metadata": {},
   "outputs": [
    {
     "name": "stdout",
     "output_type": "stream",
     "text": [
      "Name: Alice, Age: 30\n"
     ]
    }
   ],
   "source": [
    "name = \"Alice\"\n",
    "age = 30\n",
    "print(\"Name: {}, Age: {}\".format(name, age))"
   ]
  },
  {
   "cell_type": "code",
   "execution_count": 6,
   "id": "853469af-1eca-4e68-86da-e814bfda8fbf",
   "metadata": {},
   "outputs": [
    {
     "name": "stdout",
     "output_type": "stream",
     "text": [
      "Name: Alice, Age: 30\n"
     ]
    }
   ],
   "source": [
    "name = \"Alice\"\n",
    "age = 30\n",
    "print(f\"Name: {name}, Age: {age}\")"
   ]
  },
  {
   "cell_type": "code",
   "execution_count": 8,
   "id": "09b45311-a477-4a45-ab9d-2fbbf8dbf9a5",
   "metadata": {},
   "outputs": [
    {
     "name": "stdout",
     "output_type": "stream",
     "text": [
      "Name: Alice, Age: 30\n"
     ]
    }
   ],
   "source": [
    "print(\"Name: {0}, Age: {1}\".format(name, age))\n"
   ]
  },
  {
   "cell_type": "code",
   "execution_count": 12,
   "id": "ebaa0acc-823a-4faf-aa95-a8b0fa732602",
   "metadata": {},
   "outputs": [
    {
     "name": "stdout",
     "output_type": "stream",
     "text": [
      "Name:      Alice, Age: 30   \n"
     ]
    }
   ],
   "source": [
    "name = \"Alice\"\n",
    "age = 30\n",
    "print(f\"Name: {name:>10}, Age: {age:<5}\")\n",
    "\n",
    "# {name:>10} means the name will be right-aligned in a field of 10 characters.\n",
    "# {age:<5} means the age will be left-aligned in a field of 5 characters."
   ]
  },
  {
   "cell_type": "code",
   "execution_count": 14,
   "id": "eb5b2567-c958-49d4-892d-3332f4417b30",
   "metadata": {},
   "outputs": [
    {
     "name": "stdin",
     "output_type": "stream",
     "text": [
      "Enter your name:  hello\n"
     ]
    },
    {
     "name": "stdout",
     "output_type": "stream",
     "text": [
      "Hello, hello!\n"
     ]
    }
   ],
   "source": [
    "name = input(\"Enter your name: \")\n",
    "print(f\"Hello, {name}!\")\n"
   ]
  },
  {
   "cell_type": "code",
   "execution_count": 16,
   "id": "0e093424-0c54-4e5c-8dc2-90ec206242db",
   "metadata": {},
   "outputs": [
    {
     "name": "stdin",
     "output_type": "stream",
     "text": [
      "Enter your age:  23\n"
     ]
    },
    {
     "name": "stdout",
     "output_type": "stream",
     "text": [
      "You are 23 years old.\n"
     ]
    }
   ],
   "source": [
    "age = input(\"Enter your age: \")\n",
    "age=int(age)\n",
    "print(f\"You are {age} years old.\")\n"
   ]
  },
  {
   "cell_type": "code",
   "execution_count": 18,
   "id": "abc25ed2-e6b8-462b-b563-eb424d6e8177",
   "metadata": {},
   "outputs": [
    {
     "name": "stdin",
     "output_type": "stream",
     "text": [
      "Enter your height in meters:  23.24\n"
     ]
    },
    {
     "name": "stdout",
     "output_type": "stream",
     "text": [
      "Your height is 23.24 meters.\n"
     ]
    }
   ],
   "source": [
    "height = float(input(\"Enter your height in meters: \"))\n",
    "print(f\"Your height is {height} meters.\")\n"
   ]
  },
  {
   "cell_type": "code",
   "execution_count": 20,
   "id": "70aafea0-3dbc-44d6-96e7-7492f0d2d5fd",
   "metadata": {},
   "outputs": [
    {
     "name": "stdin",
     "output_type": "stream",
     "text": [
      "Enter your name and age separated by a space:  ram 23\n"
     ]
    },
    {
     "name": "stdout",
     "output_type": "stream",
     "text": [
      "Name: ram, Age: 23\n"
     ]
    }
   ],
   "source": [
    "data = input(\"Enter your name and age separated by a space: \").split()\n",
    "name = data[0]\n",
    "age = int(data[1])\n",
    "print(f\"Name: {name}, Age: {age}\")\n"
   ]
  },
  {
   "cell_type": "code",
   "execution_count": 22,
   "id": "5df305f8-f315-4030-9368-6ebfd307d2ac",
   "metadata": {},
   "outputs": [
    {
     "name": "stdin",
     "output_type": "stream",
     "text": [
      "Enter your name and age separated by a space:  wrwe 342\n"
     ]
    },
    {
     "name": "stdout",
     "output_type": "stream",
     "text": [
      "Name: wrwe, Age: 342\n"
     ]
    }
   ],
   "source": [
    "name, age = input(\"Enter your name and age separated by a space: \").split()\n",
    "age = int(age)\n",
    "print(f\"Name: {name}, Age: {age}\")"
   ]
  },
  {
   "cell_type": "code",
   "execution_count": 24,
   "id": "cf2a54a7-27c4-487a-954d-83ba6b3e1b14",
   "metadata": {},
   "outputs": [
    {
     "name": "stdin",
     "output_type": "stream",
     "text": [
      "Enter your age:  24 234\n"
     ]
    },
    {
     "name": "stdout",
     "output_type": "stream",
     "text": [
      "Invalid input. Please enter a valid integer.\n"
     ]
    },
    {
     "name": "stdin",
     "output_type": "stream",
     "text": [
      "Enter your age:  rwe223\n"
     ]
    },
    {
     "name": "stdout",
     "output_type": "stream",
     "text": [
      "Invalid input. Please enter a valid integer.\n"
     ]
    },
    {
     "name": "stdin",
     "output_type": "stream",
     "text": [
      "Enter your age:  ww 23\n"
     ]
    },
    {
     "name": "stdout",
     "output_type": "stream",
     "text": [
      "Invalid input. Please enter a valid integer.\n"
     ]
    },
    {
     "name": "stdin",
     "output_type": "stream",
     "text": [
      "Enter your age:  123 sfs\n"
     ]
    },
    {
     "name": "stdout",
     "output_type": "stream",
     "text": [
      "Invalid input. Please enter a valid integer.\n"
     ]
    },
    {
     "name": "stdin",
     "output_type": "stream",
     "text": [
      "Enter your age:  23\n"
     ]
    },
    {
     "name": "stdout",
     "output_type": "stream",
     "text": [
      "Your age is 23.\n"
     ]
    }
   ],
   "source": [
    "# Looping Until Valid Input is Provided\n",
    "while True:\n",
    "    try:\n",
    "        age = int(input(\"Enter your age: \"))\n",
    "        break  # Exit the loop if the input is valid\n",
    "    except ValueError:\n",
    "        print(\"Invalid input. Please enter a valid integer.\")\n",
    "\n",
    "print(f\"Your age is {age}.\")"
   ]
  },
  {
   "cell_type": "code",
   "execution_count": null,
   "id": "df169271-d3c6-4c05-9605-9fa854572299",
   "metadata": {},
   "outputs": [],
   "source": []
  }
 ],
 "metadata": {
  "kernelspec": {
   "display_name": "Python 3 (ipykernel)",
   "language": "python",
   "name": "python3"
  },
  "language_info": {
   "codemirror_mode": {
    "name": "ipython",
    "version": 3
   },
   "file_extension": ".py",
   "mimetype": "text/x-python",
   "name": "python",
   "nbconvert_exporter": "python",
   "pygments_lexer": "ipython3",
   "version": "3.11.7"
  }
 },
 "nbformat": 4,
 "nbformat_minor": 5
}
