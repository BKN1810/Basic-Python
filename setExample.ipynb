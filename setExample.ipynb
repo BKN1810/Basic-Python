{
 "cells": [
  {
   "cell_type": "markdown",
   "metadata": {},
   "source": [
    "set is an unordered collection of items.\n",
    "Every element is unique (no duplicates) and must be immutable (which cannot be changed).\n",
    "Python sets are written with curly brackets."
   ]
  },
  {
   "cell_type": "code",
   "execution_count": 7,
   "metadata": {},
   "outputs": [
    {
     "name": "stdout",
     "output_type": "stream",
     "text": [
      "{'banana', 'apple', 'mango'}\n",
      "banana\n",
      "apple\n",
      "mango\n",
      "{'banana', 'apple', 'orange', 'mango'}\n"
     ]
    }
   ],
   "source": [
    "thisset = {\"apple\", \"banana\", \"mango\"}\n",
    "print(thisset)\n",
    "\n",
    "for x in thisset:\n",
    "  print(x)\n",
    "thisset.add (\"orange\")  # Add an item to a set, using the add() method\n",
    "\n",
    "print(thisset)"
   ]
  },
  {
   "cell_type": "code",
   "execution_count": 3,
   "metadata": {},
   "outputs": [
    {
     "name": "stdout",
     "output_type": "stream",
     "text": [
      "{'mango', 'banana', 'grapes', 'cherry', 'apple', 'orange'}\n",
      "6\n"
     ]
    }
   ],
   "source": [
    "# Add multiple items to a set, using the update() method:\n",
    "thisset.update([\"orange\", \"mango\", \"grapes\"])\n",
    "print(thisset)\n",
    "print(len(thisset))"
   ]
  },
  {
   "cell_type": "code",
   "execution_count": 4,
   "metadata": {},
   "outputs": [
    {
     "name": "stdout",
     "output_type": "stream",
     "text": [
      "{'mango', 'grapes', 'cherry', 'apple', 'orange'}\n"
     ]
    }
   ],
   "source": [
    "# Remove \"banana\" by using the remove() method. \n",
    "#If the item to remove does not exist, remove() will raise an error.\n",
    "\n",
    "thisset.remove(\"banana\")\n",
    "print(thisset)"
   ]
  },
  {
   "cell_type": "code",
   "execution_count": 5,
   "metadata": {},
   "outputs": [
    {
     "name": "stdout",
     "output_type": "stream",
     "text": [
      "{'banana', 'cherry', 'apple'}\n",
      "set()\n"
     ]
    }
   ],
   "source": [
    "# Using the set() constructor to make a set\n",
    "theset = set((\"apple\", \"banana\", \"cherry\")) # note the double round-brackets\n",
    "print(theset)\n",
    "\n",
    "thisset.clear() # The clear() method empties the set\n",
    "print(thisset)\n",
    "\n",
    "del theset # The del keyword will delete the set completely\n",
    "#print(theset)"
   ]
  }
 ],
 "metadata": {
  "kernelspec": {
   "display_name": "Python 3",
   "language": "python",
   "name": "python3"
  },
  "language_info": {
   "codemirror_mode": {
    "name": "ipython",
    "version": 3
   },
   "file_extension": ".py",
   "mimetype": "text/x-python",
   "name": "python",
   "nbconvert_exporter": "python",
   "pygments_lexer": "ipython3",
   "version": "3.7.3"
  }
 },
 "nbformat": 4,
 "nbformat_minor": 2
}
