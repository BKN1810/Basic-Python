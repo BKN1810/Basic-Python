{
 "cells": [
  {
   "cell_type": "code",
   "execution_count": 1,
   "metadata": {},
   "outputs": [
    {
     "name": "stdout",
     "output_type": "stream",
     "text": [
      "Enter Value:  \n",
      "1\n",
      "2\n",
      "3\n",
      "3\n",
      "[[0, 0, 0], [0, 0, 1], [0, 0, 2], [0, 1, 0], [0, 1, 1], [0, 1, 3], [0, 2, 0], [0, 2, 2], [0, 2, 3], [1, 0, 0], [1, 0, 1], [1, 0, 3], [1, 1, 0], [1, 1, 2], [1, 1, 3], [1, 2, 1], [1, 2, 2], [1, 2, 3]]\n"
     ]
    }
   ],
   "source": [
    "print(\"Enter Value:  \")\n",
    "X = int(input())\n",
    "Y = int(input())\n",
    "Z = int(input())\n",
    "N = int(input())\n",
    "\n",
    "outPut= [[i, j, k] for i in range(X+1) for j in range(Y+1) for k in range(Z+1) if i + j + k != N]\n",
    "print(outPut)"
   ]
  },
  {
   "cell_type": "code",
   "execution_count": 18,
   "metadata": {},
   "outputs": [
    {
     "name": "stdout",
     "output_type": "stream",
     "text": [
      "6\n",
      "1 2 2 2 3 3\n",
      "2\n"
     ]
    }
   ],
   "source": [
    "n = int(input())\n",
    "arr = map(int, input().split())\n",
    "arr1=sorted(list(set(arr)))\n",
    "print(arr1[-2])"
   ]
  },
  {
   "cell_type": "code",
   "execution_count": null,
   "metadata": {},
   "outputs": [],
   "source": [
    "student=[]\n",
    "for _ in range(int(input())):\n",
    "        name = input()\n",
    "        score = float(input())\n",
    "        student.append([name,score])\n",
    "scoreSorted=sorted(list(set([st[1] for st in student])))\n",
    "print(scoreSorted)\n",
    "name=[x[0] for x in student if x[1]==scoreSorted[1]]\n",
    "name.sort()\n",
    "for x in name:\n",
    "    print(x)"
   ]
  },
  {
   "cell_type": "markdown",
   "metadata": {},
   "source": []
  },
  {
   "cell_type": "code",
   "execution_count": 8,
   "metadata": {},
   "outputs": [
    {
     "name": "stdout",
     "output_type": "stream",
     "text": [
      "1\n",
      "Ram 32 45 67 89\n",
      " Enter name to query: \n",
      "Ram\n",
      "{'Ram': [32.0, 45.0, 67.0, 89.0]}\n",
      "Ram\n",
      "[[32.0, 45.0, 67.0, 89.0]]\n",
      "58.25\n"
     ]
    }
   ],
   "source": [
    "n = int(input())\n",
    "student_marks = {}\n",
    "for _ in range(n):\n",
    "    name, *line = input().split()\n",
    "    scores = list(map(float, line))\n",
    "    student_marks[name] = scores\n",
    "print(\" Enter name to query: \")\n",
    "query_name = input()\n",
    "print(student_marks)\n",
    "print(query_name)\n",
    "marks=[y for x,y in student_marks.items() if x==query_name]\n",
    "print(marks)\n",
    "sum=0\n",
    "for i in marks[0]:\n",
    "     sum=sum+i\n",
    "avg=sum/len(marks[0])\n",
    "print(\"{:.2f}\".format(round(avg, 2)))"
   ]
  },
  {
   "cell_type": "code",
   "execution_count": 3,
   "metadata": {},
   "outputs": [
    {
     "name": "stdout",
     "output_type": "stream",
     "text": [
      "6\n",
      "1 2 3 4 5 6\n",
      "7\n",
      "0 9 8 7 6 5 4\n",
      "10\n"
     ]
    }
   ],
   "source": [
    "n = int(input())\n",
    "set1 = set(map(int, input().split()))\n",
    "m = int(input())\n",
    "set2 = set(map(int, input().split()))\n",
    "set4= set1.intersection(set2)\n",
    "total=len(set1)+len(set2)-len(set4)\n",
    "print(total)"
   ]
  },
  {
   "cell_type": "code",
   "execution_count": 4,
   "metadata": {},
   "outputs": [
    {
     "name": "stdout",
     "output_type": "stream",
     "text": [
      "5\n",
      "1 2 3 4 5\n",
      "6\n",
      "4 5 6 7 8 9\n",
      "2\n"
     ]
    }
   ],
   "source": [
    "n = int(input())\n",
    "set1 = set(map(int, input().split()))\n",
    "m = int(input())\n",
    "set2 = set(map(int, input().split()))\n",
    "set4= set1.intersection(set2)\n",
    "print(len(set4))"
   ]
  },
  {
   "cell_type": "code",
   "execution_count": 5,
   "metadata": {},
   "outputs": [
    {
     "name": "stdout",
     "output_type": "stream",
     "text": [
      "5\n",
      " 1 2 3 4 5\n",
      "6\n",
      "4 5 6 7 8 9\n",
      "3\n"
     ]
    }
   ],
   "source": [
    "n = int(input())\n",
    "set1 = set(map(int, input().split()))\n",
    "m = int(input())\n",
    "set2 = set(map(int, input().split()))\n",
    "set4= set1.difference(set2)\n",
    "print(len(set4))"
   ]
  },
  {
   "cell_type": "code",
   "execution_count": 6,
   "metadata": {},
   "outputs": [
    {
     "name": "stdout",
     "output_type": "stream",
     "text": [
      "1\n",
      "1\n",
      "1\n",
      "1\n",
      "0\n"
     ]
    }
   ],
   "source": [
    "n = int(input())\n",
    "set1 = set(map(int, input().split()))\n",
    "m = int(input())\n",
    "set2 = set(map(int, input().split()))\n",
    "set4= set1.symmetric_difference(set2)\n",
    "print(len(set4))"
   ]
  },
  {
   "cell_type": "code",
   "execution_count": 10,
   "metadata": {},
   "outputs": [
    {
     "name": "stdout",
     "output_type": "stream",
     "text": [
      "4\n",
      "1 2 3 4\n",
      "2\n",
      "intersection_update 5\n",
      "1 2 3 4 5\n",
      "{1, 2, 3, 4}\n",
      "symmetric_difference_update 5\n",
      "3 4 5 6 7\n",
      "{1, 2, 5, 6, 7}\n",
      "21\n"
     ]
    }
   ],
   "source": [
    "n = int(input())\n",
    "A = set(map(int, input().split()))\n",
    "B = int(input())\n",
    "for _ in range(B):\n",
    "    (command, D) = (input().split()[0],set(map(int, input().split())))\n",
    "    getattr(A, command)(D)\n",
    "    print(A)\n",
    "\n",
    "print (sum(A))"
   ]
  },
  {
   "cell_type": "code",
   "execution_count": 26,
   "metadata": {},
   "outputs": [
    {
     "name": "stdout",
     "output_type": "stream",
     "text": [
      "2\n",
      "4 5  6 7 2 4 5 6 7\n",
      "[2, 4, 4, 5, 5, 6, 6, 7, 7]\n",
      "2\n"
     ]
    }
   ],
   "source": [
    "n = int(input())\n",
    "A = list(map(int, input().split()))\n",
    "A=sorted(A)\n",
    "print(A)\n",
    "for y in A:\n",
    "    count=0\n",
    "    for x in A:\n",
    "        if x==y:\n",
    "            count=count+1\n",
    "    if count!=n:\n",
    "        print(y)  \n",
    "        break"
   ]
  },
  {
   "cell_type": "code",
   "execution_count": 27,
   "metadata": {},
   "outputs": [
    {
     "name": "stdout",
     "output_type": "stream",
     "text": [
      "2\n",
      "3 4 5 4 3 5 2\n",
      "2\n"
     ]
    }
   ],
   "source": [
    "n = int(input())\n",
    "A = map(int, input().split())\n",
    "A= sorted(A)\n",
    "for i in range(len(A)):\n",
    "    if(i != len(A)-1):\n",
    "        if(A[i]!=A[i-1] and A[i]!=A[i+1]):\n",
    "            print(A[i])\n",
    "            break;\n",
    "    else:\n",
    "        print(A[i])"
   ]
  },
  {
   "cell_type": "code",
   "execution_count": null,
   "metadata": {},
   "outputs": [],
   "source": [
    "n = int(input())\n",
    "for i in (range(n)):\n",
    "    lenA =int(input())\n",
    "    A = set(map(int, input().split()))\n",
    "    lenB =int(input())\n",
    "    B = set(map(int, input().split()))\n",
    "    print(A.issubset(B))"
   ]
  },
  {
   "cell_type": "code",
   "execution_count": 30,
   "metadata": {},
   "outputs": [
    {
     "name": "stdout",
     "output_type": "stream",
     "text": [
      "1 2 3 4 5 6 7\n",
      "2\n",
      "2 3 4\n",
      "3 6 7\n",
      "True\n"
     ]
    }
   ],
   "source": [
    "A = set(map(int, input().split()))\n",
    "n = int(input())\n",
    "C=set()\n",
    "for i in (range(n)):\n",
    "    B = set(map(int, input().split()))\n",
    "    C.update(B)\n",
    "print(A.issuperset(C))"
   ]
  },
  {
   "cell_type": "code",
   "execution_count": 31,
   "metadata": {},
   "outputs": [
    {
     "name": "stdout",
     "output_type": "stream",
     "text": [
      "2 3 4 -5\n",
      "2\n",
      "31.0\n"
     ]
    }
   ],
   "source": [
    "import numpy as np\n",
    "A = list(map(float, input().split()))\n",
    "x = float(input())\n",
    "print(np.polyval(A,x))"
   ]
  },
  {
   "cell_type": "code",
   "execution_count": null,
   "metadata": {},
   "outputs": [],
   "source": [
    "import numpy as np\n",
    "n = int(input())\n",
    "A = list(map(float, input().split()))\n",
    "B = list(map(float, input().split()))\n",
    "arr=np.array([A,B])\n",
    "print(\"{:.2f}\".format(round(np.linalg.det(arr), 2)))"
   ]
  },
  {
   "cell_type": "code",
   "execution_count": 36,
   "metadata": {},
   "outputs": [
    {
     "name": "stdout",
     "output_type": "stream",
     "text": [
      "-3.00\n"
     ]
    }
   ],
   "source": [
    "import numpy as np\n",
    "A=[1,2]\n",
    "B=[4,5]\n",
    "arr=np.array([A,B])\n",
    "print(\"{:.2f}\".format(round(np.linalg.det(arr), 2)))"
   ]
  },
  {
   "cell_type": "code",
   "execution_count": null,
   "metadata": {},
   "outputs": [],
   "source": []
  }
 ],
 "metadata": {
  "kernelspec": {
   "display_name": "Python 3",
   "language": "python",
   "name": "python3"
  },
  "language_info": {
   "codemirror_mode": {
    "name": "ipython",
    "version": 3
   },
   "file_extension": ".py",
   "mimetype": "text/x-python",
   "name": "python",
   "nbconvert_exporter": "python",
   "pygments_lexer": "ipython3",
   "version": "3.8.3"
  }
 },
 "nbformat": 4,
 "nbformat_minor": 4
}
