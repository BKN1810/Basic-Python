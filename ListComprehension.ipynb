{
 "cells": [
  {
   "cell_type": "raw",
   "metadata": {},
   "source": [
    "The general idea of a simple list comprehension syntactically looks like this:\n",
    "    [do_something for each_thing in a_group_of_things]\n",
    "    \n",
    "So this is analogous to:\n",
    "    for each_thing in a_group_of_things:\n",
    "        do_something"
   ]
  },
  {
   "cell_type": "code",
   "execution_count": 19,
   "metadata": {},
   "outputs": [
    {
     "name": "stdout",
     "output_type": "stream",
     "text": [
      "['cr', 'hs', 'plnt', 'fshrmn', 'pcnc', 'rd']\n"
     ]
    }
   ],
   "source": [
    "vowels = ['a', 'e', 'i', 'o', 'u']\n",
    "words = ['car', 'house', 'plant', 'fisherman', 'picnic', 'rodeo']\n",
    "\n",
    "def remove_vowels(word):\n",
    "    for letter in word:\n",
    "        if letter in vowels:\n",
    "            word = word.replace(letter, '')\n",
    "    return word\n",
    "\n",
    "new_words = [remove_vowels(word) for word in words]\n",
    "print(new_words)"
   ]
  },
  {
   "cell_type": "code",
   "execution_count": 12,
   "metadata": {},
   "outputs": [
    {
     "name": "stdout",
     "output_type": "stream",
     "text": [
      "[1, 2, 3, 4, 5, 8, 6]\n",
      "\n",
      " ++++++++  List Comprehension  1 +++++++++\n",
      "\n",
      "[1, 4, 3, 16, 5, 64, 36]\n",
      "\n",
      " ++++++++  List Comprehension  2 +++++++++\n",
      "\n",
      "[1, 4, 3, 16, 5, 64, 36]\n",
      "\n",
      " ++++++++  without Using List Comprehension  +++++++++\n",
      "\n",
      "36\n"
     ]
    }
   ],
   "source": [
    "def square(x):\n",
    "    if x % 2 == 0:\n",
    "        return x**2\n",
    "    else:\n",
    "        return x\n",
    "\n",
    "list1=[1,2,3,4,5,8,6]\n",
    "print(list1)\n",
    "\n",
    "print(\"\\n ++++++++  List Comprehension  1 +++++++++\\n\")\n",
    "list3=[square(y) for y in list1 ]\n",
    "print(list3)\n",
    "\n",
    "print(\"\\n ++++++++  List Comprehension  2 +++++++++\\n\")\n",
    "list2 = [y**2 if y % 2 == 0 else y for y in list1]\n",
    "print(list2)\n",
    "\n",
    "\n",
    "print(\"\\n ++++++++  without Using List Comprehension  +++++++++\\n\")\n",
    "for y in list1:\n",
    "    list4=square(y)\n",
    "print(list4)    "
   ]
  },
  {
   "cell_type": "markdown",
   "metadata": {},
   "source": [
    "### Conditionals Within List Comprehensions\n",
    "        List comprehensions also allow us to use if and else statements, giving them even more specific functionality.              #### For conditional logic in a list comprehension like                            \n",
    "            •[if_condition_true if condition else if_condition_false for element in group_of_elements]\n"
   ]
  },
  {
   "cell_type": "code",
   "execution_count": 14,
   "metadata": {},
   "outputs": [
    {
     "name": "stdout",
     "output_type": "stream",
     "text": [
      "[0, 2, 2, 4, 4, 6, 6, 8, 8, 10]\n"
     ]
    }
   ],
   "source": [
    "numbers = [0, 1, 2, 3, 4, 5, 6, 7, 8, 9]\n",
    "new_numbers = [number + 1 if number % 2 == 1 else number for number in numbers]\n",
    "print(new_numbers)"
   ]
  },
  {
   "cell_type": "markdown",
   "metadata": {},
   "source": [
    "When you’re not using an else statement, the if statement needs to be moved to the end of the list comprehension, like so:\n",
    "######  [result for element in group_of_elements if condition]"
   ]
  },
  {
   "cell_type": "code",
   "execution_count": 17,
   "metadata": {},
   "outputs": [
    {
     "name": "stdout",
     "output_type": "stream",
     "text": [
      "[1, 3, 5, 7, 9]\n",
      "[3, 6, 9, 12, 15, 18]\n",
      "[4, 16, 36, 64, 100]\n"
     ]
    }
   ],
   "source": [
    "new_numbers = [number for number in numbers if number % 2 == 1]\n",
    "print(new_numbers)\n",
    "\n",
    "A=[x for x in range(1,20) if x%3==0]\n",
    "print(A)\n",
    "\n",
    "# Create `new_list` \n",
    "new_list = [n**2 for n in range(1,11) if n%2==0]\n",
    "\n",
    "# Print `new_list`\n",
    "print(new_list)"
   ]
  },
  {
   "cell_type": "markdown",
   "metadata": {},
   "source": [
    "## Multiple if and else statements in a single list comprehension"
   ]
  },
  {
   "cell_type": "raw",
   "metadata": {},
   "source": [
    "[result_1 if condition_1 else\n",
    " result_2 if condition_2 else\n",
    " result_3 if condition_3 else\n",
    " result_if_no_conditions_met for element in group_of_elements]"
   ]
  },
  {
   "cell_type": "code",
   "execution_count": 19,
   "metadata": {},
   "outputs": [
    {
     "name": "stdout",
     "output_type": "stream",
     "text": [
      "['fail', 'fail', 'fail', 'pass', 'pass', 'pass', 'first', 'first', 'Distinction', 'Distinction']\n",
      "\n",
      " ++++++++  Using List Comprehension  +++++++++\n",
      "\n",
      "['Fail', 'Fail', 'Fail', 'Pass', 'Pass', 'Pass', 'First', 'First', 'Distinction', 'Distinction']\n"
     ]
    }
   ],
   "source": [
    "A =[]\n",
    "for number in range(1,11):\n",
    "    if number < 4:\n",
    "        A.append(\"fail\")\n",
    "    elif number <= 6:\n",
    "        A.append('pass')\n",
    "    elif number <= 8:\n",
    "        A.append('first')\n",
    "    else:\n",
    "        A.append('Distinction')\n",
    "print(A) \n",
    "\n",
    "print(\"\\n ++++++++  Using List Comprehension  +++++++++\\n\")\n",
    "\n",
    "new_numbers = ['Fail' if number < 4 else \n",
    "               'Pass' if number <= 6 else \n",
    "               'First' if number <= 8 else \n",
    "               'Distinction' for number in range(1,11)]\n",
    "print(new_numbers)"
   ]
  },
  {
   "cell_type": "markdown",
   "metadata": {},
   "source": [
    " ## Multiple If Conditions"
   ]
  },
  {
   "cell_type": "code",
   "execution_count": 21,
   "metadata": {},
   "outputs": [
    {
     "name": "stdout",
     "output_type": "stream",
     "text": [
      "[0, 6, 12, 18, 24, 30, 36, 42, 48, 54, 60, 66, 72, 78, 84, 90, 96]\n",
      "\n",
      " ++++++++  Using List Comprehension  +++++++++\n",
      "\n",
      "[0, 6, 12, 18, 24, 30, 36, 42, 48, 54, 60, 66, 72, 78, 84, 90, 96]\n"
     ]
    }
   ],
   "source": [
    "divided = []\n",
    "for x in range(100):\n",
    "    if x%2 == 0 :\n",
    "        if x%6 == 0:\n",
    "            divided.append(x)\n",
    "print(divided)\n",
    "\n",
    "print(\"\\n ++++++++  Using List Comprehension  +++++++++\\n\")\n",
    "\n",
    "divided = [x for x in range(100) if x % 2 == 0 if x % 6 == 0]\n",
    "print(divided)"
   ]
  },
  {
   "cell_type": "markdown",
   "metadata": {},
   "source": [
    "## Nested Loops in a List Comprehension"
   ]
  },
  {
   "cell_type": "code",
   "execution_count": 23,
   "metadata": {},
   "outputs": [
    {
     "name": "stdout",
     "output_type": "stream",
     "text": [
      "[40, 100, 120, 80, 200, 240, 120, 300, 360]\n",
      "\n",
      " ++++++++  Using List Comprehension 1 +++++++++\n",
      "\n",
      "[40, 100, 120, 80, 200, 240, 120, 300, 360]\n",
      "\n",
      " ++++++++  Using List Comprehension 2 +++++++++\n",
      "\n",
      "[40, 80, 120, 100, 200, 300, 120, 240, 360]\n"
     ]
    }
   ],
   "source": [
    "my_list = []\n",
    "for x in [20, 40, 60]:\n",
    "    for y in [2, 5, 6]:\n",
    "        my_list.append(x * y)\n",
    "print(my_list)\n",
    "\n",
    "print(\"\\n ++++++++  Using List Comprehension 1 +++++++++\\n\")\n",
    "\n",
    "my_list = [x * y for x in [20, 40, 60] for y in [2, 5, 6]]\n",
    "print(my_list)\n",
    "\n",
    "print(\"\\n ++++++++  Using List Comprehension 2 +++++++++\\n\")\n",
    "\n",
    "my_list = [x * y for y in [2, 5, 6] for x in [20, 40, 60]]\n",
    "print(my_list)"
   ]
  },
  {
   "cell_type": "code",
   "execution_count": 25,
   "metadata": {},
   "outputs": [
    {
     "name": "stdout",
     "output_type": "stream",
     "text": [
      "[1, 2, 3, 4, 5, 6, 7, 8, 9]\n",
      "\n",
      " ++++++++  Using List Comprehension  +++++++++\n",
      "\n",
      "[1, 2, 3, 4, 5, 6, 7, 8, 9]\n"
     ]
    }
   ],
   "source": [
    "# 2-D List \n",
    "matrix = [[1, 2, 3], [4, 5], [6, 7, 8, 9]] \n",
    "flatten_matrix = [] \n",
    "for sublist in matrix: \n",
    "    for val in sublist: \n",
    "        flatten_matrix.append(val) \n",
    "print(flatten_matrix) \n",
    "\n",
    "print(\"\\n ++++++++  Using List Comprehension  +++++++++\\n\")\n",
    "\n",
    "# 2-D List \n",
    "matrix = [[1, 2, 3], [4, 5], [6, 7, 8, 9]] \n",
    "# Nested List Comprehension to flatten a given 2-D matrix \n",
    "B = [val for sublist in matrix for val in sublist] \n",
    "print(B) "
   ]
  },
  {
   "cell_type": "code",
   "execution_count": 5,
   "metadata": {},
   "outputs": [
    {
     "name": "stdout",
     "output_type": "stream",
     "text": [
      "['cr', 'hs', 'plnt', 'fshrmn', 'pcnc', 'rd']\n",
      "\n",
      " ++++++++  Using List Comprehension  +++++++++\n",
      "\n",
      "['cr', 'hs', 'plnt', 'fshrmn', 'pcnc', 'rd']\n"
     ]
    }
   ],
   "source": [
    "words = ['car', 'house', 'plant', 'fisherman', 'picnic', 'rodeo']\n",
    "new_words = []\n",
    "vowels = ['a', 'e', 'i', 'o', 'u']\n",
    "\n",
    "for word in words:\n",
    "    for letter in word:\n",
    "        if letter in vowels:\n",
    "            word = word.replace(letter, '')\n",
    "    new_words.append(word)\n",
    "print(new_words)\n",
    "\n",
    "print(\"\\n ++++++++  Using List Comprehension  +++++++++\\n\")\n",
    "\n",
    "new_words = [''.join([letter for letter in word if letter not in vowels]) for word in words]\n",
    "print(new_words)"
   ]
  },
  {
   "cell_type": "code",
   "execution_count": null,
   "metadata": {},
   "outputs": [],
   "source": []
  },
  {
   "cell_type": "code",
   "execution_count": 2,
   "metadata": {},
   "outputs": [
    {
     "name": "stdout",
     "output_type": "stream",
     "text": [
      "['h', 'u', 'm', 'a', 'n']\n"
     ]
    }
   ],
   "source": [
    "# Iterating through a string Using List Comprehension\n",
    "h_letters = [letter for letter in 'human' ]\n",
    "print( h_letters)"
   ]
  },
  {
   "cell_type": "code",
   "execution_count": 4,
   "metadata": {},
   "outputs": [
    {
     "name": "stdout",
     "output_type": "stream",
     "text": [
      "[1, 3, 5, 7, 9, 11, 13, 15, 17, 19]\n"
     ]
    }
   ],
   "source": [
    "# Using if with List Comprehension\n",
    "number_list = [ x for x in range(20) if x % 2 == 1]\n",
    "print(number_list)"
   ]
  },
  {
   "cell_type": "code",
   "execution_count": 7,
   "metadata": {},
   "outputs": [
    {
     "name": "stdout",
     "output_type": "stream",
     "text": [
      "[0, 21, 42, 63, 84]\n"
     ]
    }
   ],
   "source": [
    "# Nested IF with List Comprehension\n",
    "num_list = [y for y in range(100) if y % 3 == 0 if y % 7 == 0]\n",
    "print(num_list)"
   ]
  },
  {
   "cell_type": "code",
   "execution_count": 9,
   "metadata": {},
   "outputs": [
    {
     "name": "stdout",
     "output_type": "stream",
     "text": [
      "['Even', 'Odd', 'Even', 'Odd', 'Even', 'Odd', 'Even', 'Odd', 'Even', 'Odd']\n"
     ]
    }
   ],
   "source": [
    "# if...else With List Comprehension\n",
    "obj = [\"Even\" if i%2==0 else \"Odd\" for i in range(10)]\n",
    "print(obj)"
   ]
  },
  {
   "cell_type": "code",
   "execution_count": 18,
   "metadata": {},
   "outputs": [
    {
     "name": "stdout",
     "output_type": "stream",
     "text": [
      "3\n",
      "[12, 7, 3]\n",
      "3\n",
      "4\n",
      "[17, 15, 4]\n",
      "[10, 12, 9]\n",
      "[10, 12, 9]\n",
      "[11, 13, 18]\n"
     ]
    }
   ],
   "source": [
    "X = [[12,7,3],\n",
    "    [4 ,5,6],\n",
    "    [4 ,5,6],\n",
    "    [7 ,8,9]]\n",
    "\n",
    "Y = [[5,8,1],\n",
    "    [6,7,3],\n",
    "    [6,7,3],\n",
    "    [4,5,9]]\n",
    "\n",
    "result = [[0,0,0],\n",
    "         [0,0,0],\n",
    "         [0,0,0],\n",
    "         [0,0,0]]\n",
    "\n",
    "print(len(X[0]))\n",
    "print(X[0])\n",
    "print(len(X[1]))\n",
    "print(len(X))\n",
    "\n",
    "# Matrix Addition using Nested List Comprehension\n",
    "result = [[X[i][j] + Y[i][j]  for j in range(len(X[0]))] for i in range(len(X))]\n",
    "for r in result:\n",
    "    print(r)"
   ]
  },
  {
   "cell_type": "code",
   "execution_count": 30,
   "metadata": {},
   "outputs": [
    {
     "name": "stdout",
     "output_type": "stream",
     "text": [
      "[22, 15, 15, 24]\n"
     ]
    }
   ],
   "source": [
    "rowsum=[sum(row) for row in X]\n",
    "print(rowsum)"
   ]
  },
  {
   "cell_type": "code",
   "execution_count": 32,
   "metadata": {},
   "outputs": [
    {
     "name": "stdout",
     "output_type": "stream",
     "text": [
      "76\n"
     ]
    }
   ],
   "source": [
    "sum_of_elements = sum(sum(row) for row in X)\n",
    "print(sum_of_elements)  "
   ]
  },
  {
   "cell_type": "code",
   "execution_count": 34,
   "metadata": {},
   "outputs": [
    {
     "name": "stdout",
     "output_type": "stream",
     "text": [
      "76\n"
     ]
    }
   ],
   "source": [
    "# List comprehension to flatten the matrix and then sum the elements\n",
    "sum_of_elements = sum([element for row in X for element in row])\n",
    " print(sum_of_elements) "
   ]
  },
  {
   "cell_type": "code",
   "execution_count": 11,
   "metadata": {},
   "outputs": [
    {
     "name": "stdout",
     "output_type": "stream",
     "text": [
      "[[1, 3, 5, 7], [2, 4, 6, 8]]\n"
     ]
    }
   ],
   "source": [
    "# Transpose of Matrix using List Comprehension\n",
    "matrix = [[1, 2], [3,4], [5,6], [7,8]]\n",
    "transpose = [[row[i] for row in matrix] for i in range(2)]\n",
    "print (transpose)"
   ]
  },
  {
   "cell_type": "code",
   "execution_count": null,
   "metadata": {},
   "outputs": [],
   "source": []
  }
 ],
 "metadata": {
  "kernelspec": {
   "display_name": "Python 3 (ipykernel)",
   "language": "python",
   "name": "python3"
  },
  "language_info": {
   "codemirror_mode": {
    "name": "ipython",
    "version": 3
   },
   "file_extension": ".py",
   "mimetype": "text/x-python",
   "name": "python",
   "nbconvert_exporter": "python",
   "pygments_lexer": "ipython3",
   "version": "3.11.7"
  }
 },
 "nbformat": 4,
 "nbformat_minor": 4
}
