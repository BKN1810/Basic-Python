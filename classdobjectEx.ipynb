{
 "cells": [
  {
   "cell_type": "code",
   "execution_count": 10,
   "metadata": {},
   "outputs": [
    {
     "name": "stdout",
     "output_type": "stream",
     "text": [
      "This side is up: Heads\n",
      "I am tossing the coin ...\n",
      "This side is up: Heads\n",
      "This side is up: Tails\n",
      "This side is up: Tails\n"
     ]
    }
   ],
   "source": [
    "import random\n",
    "class Coin:\n",
    "    def __init__(self):\n",
    "        self.side = 'Heads'\n",
    "    \n",
    "    \n",
    "    def toss(self):\n",
    "        if random.randint(0, 1) == 0:\n",
    "            self.side = 'Heads'\n",
    "        else:\n",
    "            self.side = 'Tails'\n",
    "            \n",
    "    def get_side(self):\n",
    "        return self.side\n",
    "    \n",
    "# The main function.\n",
    "def main():\n",
    "        my_coin = Coin() # Create an object from the Coin class.\n",
    "        print('This side is up:', my_coin.get_side())\n",
    "        print('I am tossing the coin ...')\n",
    "        my_coin.toss()\n",
    "        print('This side is up:', my_coin.get_side())\n",
    "        my_coin.toss()\n",
    "        print('This side is up:', my_coin.get_side())\n",
    "        my_coin.toss()\n",
    "        print('This side is up:', my_coin.get_side())\n",
    "# Call the main function.\n",
    "main()"
   ]
  },
  {
   "cell_type": "code",
   "execution_count": 21,
   "metadata": {},
   "outputs": [
    {
     "name": "stdout",
     "output_type": "stream",
     "text": [
      "Hello my name is Ram\n",
      "Hello my age is  40\n",
      "Hello my name is Ram\n",
      "Hello my age is  40\n",
      "Hello my name is Sita\n",
      "Hello my age is  16\n",
      "Hello my name is Sita\n",
      "Hello my age is  16\n"
     ]
    }
   ],
   "source": [
    "class Person:\n",
    "  # Note: The __init__() function is called automatically every\n",
    "  # time the class is being used to create a new object.\n",
    "  \n",
    "   def __init__(self, name, age):\n",
    "     self.name = name\n",
    "     self.age = age\n",
    "    \n",
    "   def myfunc(self):\n",
    "        print(\"Hello my name is \" + self.name)\n",
    "        print(\"Hello my age is \", self.age)\n",
    "        \n",
    "   def myfunc1(abc):\n",
    "        print(\"Hello my name is \" + abc.name)\n",
    "        print(\"Hello my age is \", abc.age)\n",
    "\n",
    "\n",
    "p2 = Person(\"Ram\", 40)\n",
    "p2.myfunc()\n",
    "p2.myfunc1()\n",
    "p1 = Person(\"Sita\", 16)\n",
    "p1.myfunc1()\n",
    "p1.myfunc()"
   ]
  },
  {
   "cell_type": "code",
   "execution_count": 32,
   "metadata": {},
   "outputs": [
    {
     "name": "stdout",
     "output_type": "stream",
     "text": [
      "Name :  Ram , Salary:  20024\n",
      "Name :  Shyam , Salary:  50020\n",
      "Total Employee  2\n",
      "Total Employee  2\n",
      "True\n",
      "20024\n",
      "Name :  Ram , Salary:  70000\n",
      "Name :  Shyam , Salary:  50020\n",
      "Employee.__doc__:  Common base class for all employees\n",
      "Employee.__name__: Employee\n",
      "Employee.__module__: __main__\n",
      "Employee.__bases__: (<class 'object'>,)\n",
      "Employee.__dict__: {'__module__': '__main__', '__doc__': ' Common base class for all employees', 'empCount': 2, '__init__': <function Employee.__init__ at 0x000001581F1AE048>, 'displayCount': <function Employee.displayCount at 0x000001581F1AE0D0>, 'displayEmployee': <function Employee.displayEmployee at 0x000001581F1AE268>, '__dict__': <attribute '__dict__' of 'Employee' objects>, '__weakref__': <attribute '__weakref__' of 'Employee' objects>}\n"
     ]
    }
   ],
   "source": [
    "class Employee ():\n",
    "    \"\"\" Common base class for all employees\"\"\"\n",
    "    \n",
    "    empCount = 0\n",
    "\n",
    "    def __init__(self, name, salary):\n",
    "      self.name = name\n",
    "      self.salary = salary\n",
    "      Employee.empCount += 1\n",
    "   \n",
    "    def displayCount(self):\n",
    "     print (\"Total Employee \", Employee.empCount)\n",
    "\n",
    "    def displayEmployee(self):\n",
    "      print (\"Name : \", self.name,  \", Salary: \", self.salary)\n",
    "      \n",
    "# This would create first object of Employee class\n",
    "emp1 = Employee(\"Ram\", 20024)\n",
    "\n",
    "#'This would create second object of Employee class'\n",
    "emp2 = Employee(\"Shyam\", 50020)\n",
    "\n",
    "# Accessing Attributes\n",
    "emp1.displayEmployee()\n",
    "emp2.displayEmployee()\n",
    "emp2.displayCount()\n",
    "\n",
    "print (\"Total Employee \", Employee.empCount)\n",
    "\n",
    "print(hasattr(emp1, 'salary') )   # Returns true if 'salary' attribute exists\n",
    "print(getattr(emp1, 'salary'))    # Returns value of 'salary' attribute\n",
    "\n",
    "setattr(emp1, 'salary', 70000) # Set attribute 'salary' at 7000\n",
    "# delattr(emp1, 'salary')    # Delete attribute 'salary'\n",
    "\n",
    "emp1.displayEmployee()\n",
    "emp2.displayEmployee()\n",
    "\n",
    "#__dict__ − Dictionary containing the class's namespace.\n",
    "#__doc__ − Class documentation string or none, if undefined.\n",
    "#__name__ − Class name.\n",
    "#__module__ − Module name in which the class is defined. This attribute is \"__main__\" in interactive mode.\n",
    "#__bases__ − A possibly empty tuple containing the base classes, in the order of their occurrence in the base class list.\n",
    "\n",
    "print (\"Employee.__doc__:\", Employee.__doc__)\n",
    "print (\"Employee.__name__:\", Employee.__name__)\n",
    "print (\"Employee.__module__:\", Employee.__module__)\n",
    "print (\"Employee.__bases__:\", Employee.__bases__)\n",
    "print (\"Employee.__dict__:\", Employee.__dict__ )"
   ]
  },
  {
   "cell_type": "code",
   "execution_count": 61,
   "metadata": {},
   "outputs": [
    {
     "name": "stdout",
     "output_type": "stream",
     "text": [
      "2015 Mustang Maruti\n"
     ]
    }
   ],
   "source": [
    "class Car():\n",
    "    \"\"\"A simple attempt to represent a car.\"\"\"\n",
    "    def __init__(self, make, model, year):\n",
    "        \"\"\"Initialize attributes to describe a car.\"\"\"\n",
    "        self.make = make\n",
    "        self.model = model\n",
    "        self.year = year\n",
    "        self.odometer_reading = 0\n",
    "        \n",
    "    def get_descriptive_name(self):\n",
    "        \"\"\"Return a neatly formatted descriptive name.\"\"\"\n",
    "        long_name = str(self.year) + ' ' + self.make + ' ' + self.model\n",
    "        return long_name.title()\n",
    "    \n",
    "mycar=Car(\"Mustang\",\"Maruti\",2015)\n",
    "print(mycar.get_descriptive_name())"
   ]
  },
  {
   "cell_type": "code",
   "execution_count": 56,
   "metadata": {},
   "outputs": [
    {
     "name": "stdout",
     "output_type": "stream",
     "text": [
      "This car has a 70-kWh battery.\n",
      "This car can go approximately 240 miles on a full charge.\n"
     ]
    }
   ],
   "source": [
    "class Battery():\n",
    "    \"\"\"A simple attempt to model a battery for an electric car.\"\"\"\n",
    "    def __init__(self, battery_size=60):\n",
    "        \"\"\"Initialize the batteery's attributes.\"\"\"\n",
    "        self.battery_size = battery_size\n",
    "        \n",
    "    def describe_battery(self):\n",
    "        \"\"\"Print a statement describing the battery size.\"\"\"\n",
    "        print(\"This car has a \" + str(self.battery_size) + \"-kWh battery.\")\n",
    "\n",
    "    def get_range(self):\n",
    "        \"\"\"Print a statement about the range this battery provides.\"\"\"\n",
    "        if self.battery_size == 70:\n",
    "            range = 240\n",
    "        elif self.battery_size == 85:\n",
    "            range = 270\n",
    "            \n",
    "        message = \"This car can go approximately \" + str(range)\n",
    "        message += \" miles on a full charge.\"\n",
    "        print(message)\n",
    "        \n",
    "bat=Battery(70)\n",
    "bat.describe_battery()\n",
    "bat.get_range()"
   ]
  },
  {
   "cell_type": "code",
   "execution_count": 62,
   "metadata": {},
   "outputs": [
    {
     "data": {
      "text/plain": [
       "'2016 Model Tesla'"
      ]
     },
     "execution_count": 62,
     "metadata": {},
     "output_type": "execute_result"
    }
   ],
   "source": [
    "class ElectricCar(Car):\n",
    "    \"\"\"Models aspects of a car, specific to electric vehicles.\"\"\"\n",
    "    def __init__(self, make, model, year,battery_size=60):\n",
    "        \"\"\" Initialize attributes of the parent class.\n",
    "        Then initialize attributes specific to an electric car. \"\"\"\n",
    "        super().__init__(make, model, year)\n",
    "        \n",
    "        \n",
    "tesla=ElectricCar(\"Model\",\"Tesla\",2016)\n",
    "tesla.get_descriptive_name()\n"
   ]
  },
  {
   "cell_type": "code",
   "execution_count": 2,
   "metadata": {},
   "outputs": [
    {
     "name": "stdout",
     "output_type": "stream",
     "text": [
      "Name: George Orwell, Birth Date: 1903-06-25, Nationality: British, Books: ['1984', 'Animal Farm']\n",
      "Book Title: 1984, Publish Date: 1949-06-08, Author: George Orwell\n",
      "Book Title: Animal Farm, Publish Date: 1945-08-17, Author: George Orwell\n"
     ]
    }
   ],
   "source": [
    "# Base class for a general person\n",
    "class Person:\n",
    "    def __init__(self, name, birth_date):\n",
    "        self.name = name\n",
    "        self.birth_date = birth_date\n",
    "\n",
    "    def get_details(self):\n",
    "        return f\"Name: {self.name}, Birth Date: {self.birth_date}\"\n",
    "\n",
    "# Derived class for an author\n",
    "class Author(Person):\n",
    "    def __init__(self, name, birth_date, nationality):\n",
    "        super().__init__(name, birth_date)\n",
    "        self.nationality = nationality\n",
    "        self.books = []\n",
    "\n",
    "    def add_book(self, book):\n",
    "        self.books.append(book)\n",
    "\n",
    "    def get_details(self):\n",
    "        details = super().get_details()\n",
    "        return f\"{details}, Nationality: {self.nationality}, Books: {[book.title for book in self.books]}\"\n",
    "\n",
    "# Class for a book\n",
    "class Book:\n",
    "    def __init__(self, title, publish_date, author):\n",
    "        self.title = title\n",
    "        self.publish_date = publish_date\n",
    "        self.author = author\n",
    "        self.author.add_book(self)\n",
    "\n",
    "    def get_details(self):\n",
    "        return f\"Book Title: {self.title}, Publish Date: {self.publish_date}, Author: {self.author.name}\"\n",
    "\n",
    "# Usage\n",
    "author1 = Author(\"George Orwell\", \"1903-06-25\", \"British\")\n",
    "book1 = Book(\"1984\", \"1949-06-08\", author1)\n",
    "book2 = Book(\"Animal Farm\", \"1945-08-17\", author1)\n",
    "\n",
    "print(author1.get_details())\n",
    "\n",
    "print(book1.get_details())\n",
    "\n",
    "print(book2.get_details())"
   ]
  },
  {
   "cell_type": "code",
   "execution_count": null,
   "metadata": {},
   "outputs": [],
   "source": []
  }
 ],
 "metadata": {
  "kernelspec": {
   "display_name": "Python 3 (ipykernel)",
   "language": "python",
   "name": "python3"
  },
  "language_info": {
   "codemirror_mode": {
    "name": "ipython",
    "version": 3
   },
   "file_extension": ".py",
   "mimetype": "text/x-python",
   "name": "python",
   "nbconvert_exporter": "python",
   "pygments_lexer": "ipython3",
   "version": "3.11.7"
  }
 },
 "nbformat": 4,
 "nbformat_minor": 4
}
