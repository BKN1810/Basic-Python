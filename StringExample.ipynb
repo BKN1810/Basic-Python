{
 "cells": [
  {
   "cell_type": "code",
   "execution_count": 2,
   "metadata": {},
   "outputs": [],
   "source": [
    "var1 = 'Strings are amongst the most popular types in Python.'\n",
    "var2 = \"We can create them simply by enclosing characters in quotes.\"\n",
    "var3 = 'Python treats single quotes the same as double quotes.'"
   ]
  },
  {
   "cell_type": "code",
   "execution_count": 3,
   "metadata": {},
   "outputs": [],
   "source": [
    "# triple quotes string can extend multiple lines\n",
    "var4 = \"\"\" Creating Strings is as Simple as Assigning a Value to a Variable.\n",
    "        The index of -1 refers to the last item, -2 to the second last item and so on. \n",
    "        We can access a range of items in a string by using the slicing operator (colon).\"\"\""
   ]
  },
  {
   "cell_type": "code",
   "execution_count": 4,
   "metadata": {},
   "outputs": [
    {
     "name": "stdout",
     "output_type": "stream",
     "text": [
      "var1[0]:  S\n",
      "var2[1:5]:  e ca\n",
      "#########################################################################\n",
      "String Concatenation :- String   Python\n",
      "#########################################################################\n",
      ".nohtyP ni sepyt ralupop tsom eht tsgnoma era sgnirtS\n"
     ]
    }
   ],
   "source": [
    "print(\"var1[0]: \", var1[0])\n",
    "print(\"var2[1:5]: \", var2[1:5])\n",
    "print('#########################################################################')\n",
    "print(\"String Concatenation :-\", var1[:6] + '   Python')\n",
    "print('#########################################################################')\n",
    "print(var1[::-1])"
   ]
  },
  {
   "cell_type": "code",
   "execution_count": 5,
   "metadata": {},
   "outputs": [
    {
     "name": "stdout",
     "output_type": "stream",
     "text": [
      "WE CAN CREATE THEM SIMPLY BY ENCLOSING CHARACTERS IN QUOTES.\n",
      " creating strings is as simple as assigning a value to a variable.\n",
      "        the index of -1 refers to the last item, -2 to the second last item and so on. \n",
      "        we can access a range of items in a string by using the slicing operator (colon).\n",
      "Aython treats single quotes the same as double quotes.\n",
      "Python treats single quotes the same as double quotes.\n"
     ]
    }
   ],
   "source": [
    "print(var2.upper())\n",
    "print(var4.lower())\n",
    "print(var3.replace('P' , 'A'))\n",
    "print(var3)"
   ]
  },
  {
   "cell_type": "code",
   "execution_count": 7,
   "metadata": {},
   "outputs": [
    {
     "name": "stdout",
     "output_type": "stream",
     "text": [
      "True\n",
      "-1\n",
      "24\n"
     ]
    }
   ],
   "source": [
    "x = var1.endswith(\"Python.\")\n",
    "print(x)\n",
    "x = var1.find(\"ymost\") # if found , return index value, otherwise 0.\n",
    "print(x)\n",
    "x = var1.find(\"most\") # if found , return index value, otherwise 0.\n",
    "print(x)"
   ]
  },
  {
   "cell_type": "code",
   "execution_count": 8,
   "metadata": {},
   "outputs": [
    {
     "name": "stdout",
     "output_type": "stream",
     "text": [
      "3 letters found\n"
     ]
    }
   ],
   "source": [
    "count = 0\n",
    "for letter in 'Hello World':\n",
    "    if(letter == 'l'):\n",
    "        count += 1\n",
    "print(count,'letters found')"
   ]
  },
  {
   "cell_type": "code",
   "execution_count": 9,
   "metadata": {},
   "outputs": [
    {
     "name": "stdout",
     "output_type": "stream",
     "text": [
      "['foo', 'baz', 'quux']\n",
      "['bar', 'qux', 'corge']\n",
      "['corge', 'qux', 'bar']\n"
     ]
    }
   ],
   "source": [
    "a = ['foo', 'bar', 'baz', 'qux', 'quux', 'corge']\n",
    "print(a[0:6:2])  #start from zero index and ends with 6 index. Increnent is 2.\n",
    "                # output is ['foo', 'baz', 'quux']\n",
    "print(a[1:6:2])   # ['bar', 'qux', 'corge']\n",
    "print(a[6:0:-2]) # ['corge', 'qux', 'bar']"
   ]
  },
  {
   "cell_type": "code",
   "execution_count": 1,
   "metadata": {},
   "outputs": [
    {
     "data": {
      "text/plain": [
       "['Dr. Brooks', 'Dr. Collins-Thompson', 'Dr. Vydiswaran', 'Dr. Romero']"
      ]
     },
     "execution_count": 1,
     "metadata": {},
     "output_type": "execute_result"
    }
   ],
   "source": [
    "# Here is a list of faculty teaching this MOOC. \n",
    "# Can you write a function and apply it using map() to get a list of all faculty titles and last names \n",
    "# (e.g. ['Dr. Brooks', 'Dr. Collins-Thompson', …]) ?\n",
    "\n",
    "people = ['Dr. Christopher Brooks', 'Dr. Kevyn Collins-Thompson', 'Dr. VG Vinod Vydiswaran', 'Dr. Daniel Romero']\n",
    "\n",
    "def split_title_and_name(person):\n",
    "    title = person.split()[0]\n",
    "    lastname = person.split()[-1]\n",
    "    return '{} {}'.format(title, lastname)\n",
    "\n",
    "list(map(split_title_and_name, people))"
   ]
  },
  {
   "cell_type": "code",
   "execution_count": 2,
   "metadata": {},
   "outputs": [
    {
     "data": {
      "text/plain": [
       "['Dr. Christopher', 'Dr. Kevyn', 'Dr. VG', 'Dr. Daniel']"
      ]
     },
     "execution_count": 2,
     "metadata": {},
     "output_type": "execute_result"
    }
   ],
   "source": [
    "people = ['Dr. Christopher Brooks', 'Dr. Kevyn Collins-Thompson', 'Dr. VG Vinod Vydiswaran', 'Dr. Daniel Romero']\n",
    "\n",
    "def split_title_and_name(person):\n",
    "    title = person.split()[0]\n",
    "    lastname = person.split()[1]\n",
    "    return '{} {}'.format(title, lastname)\n",
    "\n",
    "list(map(split_title_and_name, people))"
   ]
  },
  {
   "cell_type": "code",
   "execution_count": null,
   "metadata": {},
   "outputs": [],
   "source": []
  }
 ],
 "metadata": {
  "kernelspec": {
   "display_name": "Python 3",
   "language": "python",
   "name": "python3"
  },
  "language_info": {
   "codemirror_mode": {
    "name": "ipython",
    "version": 3
   },
   "file_extension": ".py",
   "mimetype": "text/x-python",
   "name": "python",
   "nbconvert_exporter": "python",
   "pygments_lexer": "ipython3",
   "version": "3.7.6"
  }
 },
 "nbformat": 4,
 "nbformat_minor": 2
}
