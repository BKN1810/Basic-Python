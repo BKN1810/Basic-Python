{
 "cells": [
  {
   "cell_type": "code",
   "execution_count": 2,
   "metadata": {},
   "outputs": [
    {
     "name": "stdout",
     "output_type": "stream",
     "text": [
      "{'brand': 'Ford', 'model': 'Mustang', 'year': 1964}\n"
     ]
    }
   ],
   "source": [
    "thisdict =\t{\n",
    "  \"brand\": \"Ford\",\n",
    "  \"model\": \"Mustang\",\n",
    "  \"year\": 1964\n",
    "}\n",
    "print(thisdict)"
   ]
  },
  {
   "cell_type": "code",
   "execution_count": 4,
   "metadata": {},
   "outputs": [
    {
     "name": "stdout",
     "output_type": "stream",
     "text": [
      "Mustang\n",
      "1964\n"
     ]
    }
   ],
   "source": [
    "# we can access the items of a dictionary by referring to its key name, inside square brackets\n",
    "x = thisdict[\"model\"]\n",
    "print(x)\n",
    "\n",
    "# There is also a method called get() that will give you the same result\n",
    "x = thisdict.get(\"year\")\n",
    "print(x)\n"
   ]
  },
  {
   "cell_type": "code",
   "execution_count": 5,
   "metadata": {},
   "outputs": [
    {
     "name": "stdout",
     "output_type": "stream",
     "text": [
      "{'brand': 'Ford', 'model': 'Mustang', 'year': 2018, 'color': 'red'}\n"
     ]
    }
   ],
   "source": [
    "# You can change the value of a specific item by referring to its key name\n",
    "thisdict[\"year\"] = 2018\n",
    "# Adding Items: Adding an item to the dictionary is done by using a new index key and assigning a value to it\n",
    "thisdict[\"color\"] = \"red\"\n",
    "print(thisdict)"
   ]
  },
  {
   "cell_type": "code",
   "execution_count": 6,
   "metadata": {},
   "outputs": [
    {
     "name": "stdout",
     "output_type": "stream",
     "text": [
      "{'brand': 'Ford', 'year': 2018, 'color': 'red'}\n",
      "{'brand': 'Ford', 'year': 2018}\n",
      "{}\n"
     ]
    }
   ],
   "source": [
    "# Removing Items: The pop() method removes the item with the specified key name\n",
    "thisdict.pop(\"model\")\n",
    "print(thisdict)\n",
    "\n",
    "# Removing Items: The popitem() method removes the last inserted item\n",
    "# (in versions before 3.7, a random item is removed instead)\n",
    "thisdict.popitem()\n",
    "print(thisdict)\n",
    "\n",
    "# The clear() keyword empties the dictionary\n",
    "thisdict.clear()\n",
    "print(thisdict)\n"
   ]
  },
  {
   "cell_type": "code",
   "execution_count": 7,
   "metadata": {},
   "outputs": [
    {
     "name": "stdout",
     "output_type": "stream",
     "text": [
      "####################################################################\n",
      "{'color': 'red', 'model': 'Mustang', 'brand': 'Ford', 'year': 2017, 2: 'two'}\n"
     ]
    }
   ],
   "source": [
    "thisdict[\"color\"] = \"red\"\n",
    "thisdict[\"model\"] = \"Mustang\"\n",
    "thisdict[\"brand\"] = \"Ford\"\n",
    "thisdict[\"year\"] = 2017\n",
    "print(\"####################################################################\")\n",
    "d1 = {2: \"two\"}\n",
    "thisdict.update(d1)\n",
    "print(thisdict)"
   ]
  },
  {
   "cell_type": "code",
   "execution_count": 8,
   "metadata": {},
   "outputs": [
    {
     "name": "stdout",
     "output_type": "stream",
     "text": [
      "color\n",
      "model\n",
      "brand\n",
      "year\n",
      "2\n",
      "red\n",
      "Mustang\n",
      "Ford\n",
      "2017\n",
      "two\n"
     ]
    }
   ],
   "source": [
    "# Loop Through a Dictionary\n",
    "# Print all key names in the dictionary, one by one:\n",
    "for x in thisdict:\n",
    "  print(x)\n",
    "\n",
    "# Print all values in the dictionary, one by one\n",
    "for x in thisdict:\n",
    "  print(thisdict[x])"
   ]
  },
  {
   "cell_type": "code",
   "execution_count": 9,
   "metadata": {},
   "outputs": [
    {
     "name": "stdout",
     "output_type": "stream",
     "text": [
      "red\n",
      "Mustang\n",
      "Ford\n",
      "2017\n",
      "two\n"
     ]
    }
   ],
   "source": [
    "# values() function to return values of a dictionary\n",
    "for x in thisdict.values():\n",
    "   print(x)"
   ]
  },
  {
   "cell_type": "code",
   "execution_count": 10,
   "metadata": {},
   "outputs": [
    {
     "name": "stdout",
     "output_type": "stream",
     "text": [
      "color  :  red\n",
      "model  :  Mustang\n",
      "brand  :  Ford\n",
      "year  :  2017\n",
      "2  :  two\n"
     ]
    }
   ],
   "source": [
    "for x, y in thisdict.items():\n",
    "  print(x,\" : \", y)"
   ]
  },
  {
   "cell_type": "code",
   "execution_count": 11,
   "metadata": {},
   "outputs": [
    {
     "name": "stdout",
     "output_type": "stream",
     "text": [
      "Yes, 'model' is one of the keys in the thisdict dictionary\n",
      "Yes, 2017 is one of the values in the thisdict dictionary\n"
     ]
    }
   ],
   "source": [
    "# Check if Key Exists\n",
    "if \"model\" in thisdict:\n",
    "  print(\"Yes, 'model' is one of the keys in the thisdict dictionary\")\n",
    "\n",
    "if 2017 in thisdict.values():\n",
    "      print(\"Yes, 2017 is one of the values in the thisdict dictionary\")"
   ]
  },
  {
   "cell_type": "code",
   "execution_count": 12,
   "metadata": {},
   "outputs": [
    {
     "name": "stdout",
     "output_type": "stream",
     "text": [
      "person =  {'name': 'Ram', 'salary': None}\n",
      "salary =  None\n"
     ]
    }
   ],
   "source": [
    "# How setdefault() works when key is not in the dictionary?\n",
    "person = {'name': 'Ram'}\n",
    "# key is not in the dictionary\n",
    "salary = person.setdefault('salary')\n",
    "print('person = ',person)\n",
    "print('salary = ',salary)"
   ]
  },
  {
   "cell_type": "code",
   "execution_count": 13,
   "metadata": {},
   "outputs": [
    {
     "name": "stdout",
     "output_type": "stream",
     "text": [
      "person =  {'name': 'Ram', 'salary': None, 'age': 22}\n",
      "age =  22\n"
     ]
    }
   ],
   "source": [
    "# key is not in the dictionary\n",
    "# default_value is provided\n",
    "age = person.setdefault('age', 22)\n",
    "print('person = ',person)\n",
    "print('age = ',age)\n"
   ]
  },
  {
   "cell_type": "code",
   "execution_count": 14,
   "metadata": {},
   "outputs": [
    {
     "name": "stdout",
     "output_type": "stream",
     "text": [
      "{'color': 'green', 'points': 5}\n",
      "{'color': 'yellow', 'points': 10}\n",
      "{'color': 'red', 'points': 15}\n"
     ]
    }
   ],
   "source": [
    "alien_0 = {'color': 'green', 'points': 5}\n",
    "alien_1 = {'color': 'yellow', 'points': 10}\n",
    "alien_2 = {'color': 'red', 'points': 15}\n",
    "\n",
    "aliens = [alien_0, alien_1, alien_2]\n",
    "\n",
    "for alien in aliens:\n",
    "    print(alien)"
   ]
  },
  {
   "cell_type": "code",
   "execution_count": 21,
   "metadata": {},
   "outputs": [
    {
     "name": "stdout",
     "output_type": "stream",
     "text": [
      "Username:  Ram\n",
      "\tFull name:  Ram Sharma\n",
      "\tLocation:  Damak\n",
      "Username:  Krishna\n",
      "\tFull name:  Krishna Sharma\n",
      "\tLocation:  Morang\n"
     ]
    }
   ],
   "source": [
    "users = {\n",
    "        'Ram': {\n",
    "                'first': 'Ram',\n",
    "                'last': 'Sharma',\n",
    "                'location': 'Damak'\n",
    "                },\n",
    "        'Krishna': {\n",
    "                'first': 'Krishna',\n",
    "                'last': 'Sharma',\n",
    "                'location': 'Morang'\n",
    "            }\n",
    "        }\n",
    "\n",
    "for username, user_info in users.items():\n",
    "    print(\"Username: \", username) \n",
    "    full_name = user_info['first'] + \" \" + user_info['last'] \n",
    "    location = user_info['location']\n",
    "    print(\"\\tFull name: \" , full_name)\n",
    "    print(\"\\tLocation: \" , location)"
   ]
  },
  {
   "cell_type": "code",
   "execution_count": null,
   "metadata": {},
   "outputs": [],
   "source": []
  }
 ],
 "metadata": {
  "kernelspec": {
   "display_name": "Python 3",
   "language": "python",
   "name": "python3"
  },
  "language_info": {
   "codemirror_mode": {
    "name": "ipython",
    "version": 3
   },
   "file_extension": ".py",
   "mimetype": "text/x-python",
   "name": "python",
   "nbconvert_exporter": "python",
   "pygments_lexer": "ipython3",
   "version": "3.7.3"
  }
 },
 "nbformat": 4,
 "nbformat_minor": 2
}
